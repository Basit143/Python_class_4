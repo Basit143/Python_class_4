{
 "cells": [
  {
   "cell_type": "code",
   "execution_count": 1,
   "metadata": {},
   "outputs": [],
   "source": [
    "\n",
    "name1 : str = \"Abdul Basit\"\n",
    "name2 : str = \"Basit Abdul Basit\"\n",
    "name3 : str = \"Abdul Dayyan\""
   ]
  },
  {
   "cell_type": "markdown",
   "metadata": {},
   "source": [
    "# List\n",
    "* dynamic length hoti ha \n",
    "* heterogenous data types (Multiple type store kae wa sakty ha)\n",
    "* index \n",
    "   * postive 0 to n-1 \n",
    "   *  negative  -1 to -(n+1) \n",
    "* slicing\n",
    "   * variable ka bad `names[start:end:step]`\n",
    "   * start : int = include\n",
    "   * end    : int = n-1\n",
    "   * step  : int = sequence"
   ]
  },
  {
   "cell_type": "code",
   "execution_count": 1,
   "metadata": {},
   "outputs": [
    {
     "name": "stdout",
     "output_type": "stream",
     "text": [
      "Abdul Basit\n",
      "Abdul Basit\n",
      "Qasim Dayyan\n",
      "Qasim Dayyan\n",
      "Ahmad Dayyan\n",
      "Ahmad Dayyan\n"
     ]
    }
   ],
   "source": [
    "# ya old way ha list define karny ka \n",
    "\n",
    "# phly left to right indexing hoti \n",
    "#           0              1                2              3               4\n",
    "names = [\"Abdul Basit\",\"Abdul Dayyan\",\"Qasim Dayyan\",\"Abbas Dayyan\",\"Ahmad Dayyan\"]\n",
    "#             -5           -4                -3           -2             -1\n",
    "# ab hum right to left bi indexing kar sakty ha \n",
    "\n",
    "print(names[0])\n",
    "print(names[-5])\n",
    "print(names[2])\n",
    "print(names[-3])\n",
    "print(names[4])\n",
    "print(names[-1])\n"
   ]
  },
  {
   "cell_type": "code",
   "execution_count": 4,
   "metadata": {},
   "outputs": [
    {
     "name": "stdout",
     "output_type": "stream",
     "text": [
      "<class 'list'>\n",
      "<class 'str'>\n",
      "mary pyary baba jan ABDUL DAYYAN😍❤!\n"
     ]
    }
   ],
   "source": [
    "# ab hum new way sa list handle kary ga \n",
    "\n",
    "from typing import Any \n",
    "\n",
    "# phly left to right indexing hoti \n",
    "#                        0              1                2              3               4\n",
    "names : list[Any] = [\"Abdul Basit\",\"Abdul Dayyan\",\"Qasim Dayyan\",\"Abbas Dayyan\",\"Ahmad Dayyan\"]\n",
    "#                        -5           -4                -3           -2             -1\n",
    "# ab hum right to left bi indexing kar sakty ha \n",
    "\n",
    "print(type(names))\n",
    "print(type(names[-1]))\n",
    "\n",
    "print(f\"mary pyary baba jan {names[-4].upper()}😍❤!\")"
   ]
  },
  {
   "cell_type": "code",
   "execution_count": 7,
   "metadata": {},
   "outputs": [
    {
     "name": "stdout",
     "output_type": "stream",
     "text": [
      "['A', 'B', 'C', 'D', 'E', 'F', 'G', 'H', 'I', 'J', 'K', 'L', 'O', 'M', 'N', 'P', 'Q', 'R', 'S', 'T', 'U', 'V', 'W', 'X', 'Y', 'Z']\n"
     ]
    }
   ],
   "source": [
    "chr : list[str] = list(\"ABCDEFGHIJKLOMNPQRSTUVWXYZ\")\n",
    "\n",
    "print(chr)"
   ]
  },
  {
   "cell_type": "code",
   "execution_count": 12,
   "metadata": {},
   "outputs": [
    {
     "name": "stdout",
     "output_type": "stream",
     "text": [
      "['A', 'B', 'C', 'D', 'E', 'F', 'G']\n",
      "['A', 'B', 'C', 'D', 'E', 'F', 'G']\n",
      "['A', 'B', 'C', 'D', 'E', 'F', 'G']\n",
      "['A', 'B', 'C', 'D', 'E', 'F', 'G']\n",
      "['A', 'B', 'C', 'D', 'E', 'F', 'G']\n"
     ]
    }
   ],
   "source": [
    "#                   0    1    2    3    4    5    6    7    8    9   10   11   12   13   14   15   16   17   18   19    20  21   22   23   24   25     \n",
    "chr : list[str] = ['A', 'B', 'C', 'D', 'E', 'F', 'G', 'H', 'I', 'J', 'K', 'L', 'O', 'M', 'N', 'P', 'Q', 'R', 'S', 'T', 'U', 'V', 'W', 'X', 'Y', 'Z']\n",
    "#                 -26   -25  -24  -23  -22  -21  -20  -19                                                                                  -2   -1\n",
    "# default slicing go from left to right \n",
    "\n",
    "print(chr[0:7]) # 0 : include  | index 7-1 = 6 \n",
    "print(chr[:7])  # not pass any number = all \n",
    "print(chr[-26:-19]) # -26 : include | index -19-1 = -20\n",
    "print(chr[0:7:1])\n",
    "print(chr[:7:])                      "
   ]
  },
  {
   "cell_type": "code",
   "execution_count": 13,
   "metadata": {},
   "outputs": [
    {
     "name": "stdout",
     "output_type": "stream",
     "text": [
      "['A', 'B', 'C', 'D', 'E', 'F', 'G', 'H', 'I', 'J', 'K', 'L', 'O', 'M', 'N', 'P', 'Q', 'R', 'S', 'T', 'U', 'V', 'W', 'X', 'Y', 'Z']\n"
     ]
    }
   ],
   "source": [
    "#                   0    1    2    3    4    5    6    7    8    9   10   11   12   13   14   15   16   17   18   19    20  21   22   23   24   25     \n",
    "chr : list[str] = ['A', 'B', 'C', 'D', 'E', 'F', 'G', 'H', 'I', 'J', 'K', 'L', 'O', 'M', 'N', 'P', 'Q', 'R', 'S', 'T', 'U', 'V', 'W', 'X', 'Y', 'Z']\n",
    "#                 -26   -25  -24  -23  -22  -21  -20  -19                                                                                  -2   -1\n",
    "\n",
    "print(chr[::])"
   ]
  },
  {
   "cell_type": "code",
   "execution_count": 14,
   "metadata": {},
   "outputs": [
    {
     "name": "stdout",
     "output_type": "stream",
     "text": [
      "['A', 'C', 'E', 'G', 'I', 'K', 'O', 'N', 'Q', 'S', 'U', 'W', 'Y']\n"
     ]
    }
   ],
   "source": [
    "#                   0    1    2    3    4    5    6    7    8    9   10   11   12   13   14   15   16   17   18   19    20  21   22   23   24   25     \n",
    "chr : list[str] = ['A', 'B', 'C', 'D', 'E', 'F', 'G', 'H', 'I', 'J', 'K', 'L', 'O', 'M', 'N', 'P', 'Q', 'R', 'S', 'T', 'U', 'V', 'W', 'X', 'Y', 'Z']\n",
    "#                 -26   -25  -24  -23  -22  -21  -20  -19                                                                                  -2   -1\n",
    "\n",
    "print(chr[::2])"
   ]
  },
  {
   "cell_type": "code",
   "execution_count": 15,
   "metadata": {},
   "outputs": [
    {
     "name": "stdout",
     "output_type": "stream",
     "text": [
      "['Z', 'Y', 'X', 'W', 'V', 'U', 'T', 'S', 'R', 'Q', 'P', 'N', 'M', 'O', 'L', 'K', 'J', 'I', 'H', 'G', 'F', 'E', 'D', 'C', 'B', 'A']\n"
     ]
    }
   ],
   "source": [
    "#                   0    1    2    3    4    5    6    7    8    9   10   11   12   13   14   15   16   17   18   19    20  21   22   23   24   25     \n",
    "chr : list[str] = ['A', 'B', 'C', 'D', 'E', 'F', 'G', 'H', 'I', 'J', 'K', 'L', 'O', 'M', 'N', 'P', 'Q', 'R', 'S', 'T', 'U', 'V', 'W', 'X', 'Y', 'Z']\n",
    "#                 -26   -25  -24  -23  -22  -21  -20  -19                                                                                  -2   -1\n",
    "\n",
    "print(chr[::-1])"
   ]
  },
  {
   "cell_type": "code",
   "execution_count": 19,
   "metadata": {},
   "outputs": [
    {
     "name": "stdout",
     "output_type": "stream",
     "text": [
      "['B', 'C', 'D', 'E', 'F', 'G', 'H', 'I', 'J', 'K', 'L', 'O', 'M', 'N', 'P']\n"
     ]
    }
   ],
   "source": [
    "#                   0    1    2    3    4    5    6    7    8    9   10   11   12   13   14   15   16   17   18     \n",
    "chr : list[str] = ['A', 'B', 'C', 'D', 'E', 'F', 'G', 'H', 'I', 'J', 'K', 'L', 'O', 'M', 'N', 'P', 'Q', 'R', 'S']\n",
    "#                 -19   -18  -17  -16  -15  -14  -13  -12  -11  -10  -9   -8   -7   -6   -5   -4   -3   -2   -1\n",
    "\n",
    "print(chr[1:-3])"
   ]
  },
  {
   "cell_type": "code",
   "execution_count": 20,
   "metadata": {},
   "outputs": [
    {
     "name": "stdout",
     "output_type": "stream",
     "text": [
      "['R', 'Q', 'P']\n"
     ]
    }
   ],
   "source": [
    "#                   0    1    2    3    4    5    6    7    8    9   10   11   12   13   14   15   16   17   18     \n",
    "chr : list[str] = ['A', 'B', 'C', 'D', 'E', 'F', 'G', 'H', 'I', 'J', 'K', 'L', 'O', 'M', 'N', 'P', 'Q', 'R', 'S']\n",
    "#                 -19   -18  -17  -16  -15  -14  -13  -12  -11  -10  -9   -8   -7   -6   -5   -4   -3   -2   -1\n",
    "\n",
    "# iteration slicing ya hamsah left to right chly ga \n",
    "# step left to right  positive \n",
    "# step right to left  negative\n",
    "\n",
    "print(chr[-2:-5:-1])\n"
   ]
  },
  {
   "cell_type": "code",
   "execution_count": 21,
   "metadata": {},
   "outputs": [
    {
     "name": "stdout",
     "output_type": "stream",
     "text": [
      "[]\n"
     ]
    }
   ],
   "source": [
    "#                   0    1    2    3    4    5    6    7    8    9   10   11   12   13   14   15   16   17   18     \n",
    "chr : list[str] = ['A', 'B', 'C', 'D', 'E', 'F', 'G', 'H', 'I', 'J', 'K', 'L', 'O', 'M', 'N', 'P', 'Q', 'R', 'S']\n",
    "#                 -19   -18  -17  -16  -15  -14  -13  -12  -11  -10  -9   -8   -7   -6   -5   -4   -3   -2   -1\n",
    "\n",
    "# iteration slicing ya hamsah left to right chly ga \n",
    "# step left to right  positive \n",
    "# step right to left  negative\n",
    "\n",
    "print(chr[-2:-5])"
   ]
  },
  {
   "cell_type": "markdown",
   "metadata": {},
   "source": [
    "# List Methods"
   ]
  },
  {
   "cell_type": "code",
   "execution_count": 34,
   "metadata": {},
   "outputs": [
    {
     "data": {
      "text/plain": [
       "['append',\n",
       " 'clear',\n",
       " 'copy',\n",
       " 'count',\n",
       " 'extend',\n",
       " 'index',\n",
       " 'insert',\n",
       " 'pop',\n",
       " 'remove',\n",
       " 'reverse',\n",
       " 'sort']"
      ]
     },
     "execution_count": 34,
     "metadata": {},
     "output_type": "execute_result"
    }
   ],
   "source": [
    "[i for i in dir(list) if \"__\" not in i]"
   ]
  },
  {
   "cell_type": "code",
   "execution_count": 25,
   "metadata": {},
   "outputs": [
    {
     "ename": "NameError",
     "evalue": "name 'Any' is not defined",
     "output_type": "error",
     "traceback": [
      "\u001b[1;31m---------------------------------------------------------------------------\u001b[0m",
      "\u001b[1;31mNameError\u001b[0m                                 Traceback (most recent call last)",
      "Cell \u001b[1;32mIn[25], line 2\u001b[0m\n\u001b[0;32m      1\u001b[0m \u001b[38;5;66;03m#                        0              1                2              3               4\u001b[39;00m\n\u001b[1;32m----> 2\u001b[0m names : \u001b[38;5;28mlist\u001b[39m[\u001b[43mAny\u001b[49m] \u001b[38;5;241m=\u001b[39m [\u001b[38;5;124m\"\u001b[39m\u001b[38;5;124mAbdul Basit\u001b[39m\u001b[38;5;124m\"\u001b[39m,\u001b[38;5;124m\"\u001b[39m\u001b[38;5;124mAbdul Dayyan\u001b[39m\u001b[38;5;124m\"\u001b[39m,\u001b[38;5;124m\"\u001b[39m\u001b[38;5;124mQasim Dayyan\u001b[39m\u001b[38;5;124m\"\u001b[39m,\u001b[38;5;124m\"\u001b[39m\u001b[38;5;124mAbbas Dayyan\u001b[39m\u001b[38;5;124m\"\u001b[39m,\u001b[38;5;124m\"\u001b[39m\u001b[38;5;124mAhmad Dayyan\u001b[39m\u001b[38;5;124m\"\u001b[39m]\n\u001b[0;32m      3\u001b[0m \u001b[38;5;66;03m#                        -5           -4                -3           -2             -1\u001b[39;00m\n\u001b[0;32m      5\u001b[0m \u001b[38;5;28mprint\u001b[39m(names)\n",
      "\u001b[1;31mNameError\u001b[0m: name 'Any' is not defined"
     ]
    }
   ],
   "source": [
    "\n",
    "#                        0              1                2              3               4\n",
    "names : list[Any] = [\"Abdul Basit\",\"Abdul Dayyan\",\"Qasim Dayyan\",\"Abbas Dayyan\",\"Ahmad Dayyan\"]\n",
    "#                        -5           -4                -3           -2             -1\n",
    "\n",
    "print(names)\n",
    "names[0]"
   ]
  },
  {
   "cell_type": "code",
   "execution_count": 30,
   "metadata": {},
   "outputs": [
    {
     "name": "stdout",
     "output_type": "stream",
     "text": [
      "['Abdul Basit', 'Abdul Dayyan', 'Qasim Dayyan', 'Abbas Dayyan', 'Ahmad Dayyan']\n",
      "['Abdul Basit Mughal', 'Abdul Dayyan', 'Qasim Dayyan', 'Abbas Dayyan', 'Ahmad Dayyan']\n"
     ]
    }
   ],
   "source": [
    "from typing import Any\n",
    "\n",
    "names : list[Any] = [\"Abdul Basit\",\"Abdul Dayyan\",\"Qasim Dayyan\",\"Abbas Dayyan\",\"Ahmad Dayyan\"]\n",
    "\n",
    "print(names)\n",
    "names[0] = \"Abdul Basit Mughal\" # mutable -> editable\n",
    "print(names)"
   ]
  },
  {
   "cell_type": "code",
   "execution_count": 31,
   "metadata": {},
   "outputs": [
    {
     "name": "stdout",
     "output_type": "stream",
     "text": [
      "['Abdul Basit', 'Abdul Dayyan', 'Qasim Dayyan', 'Abbas Dayyan', 'Ahmad Dayyan']\n",
      "['Abdul Basit', 'Abdul Dayyan', 'Qasim Dayyan', 'Abbas Dayyan']\n"
     ]
    }
   ],
   "source": [
    "from typing import Any\n",
    "\n",
    "names : list[Any] = [\"Abdul Basit\",\"Abdul Dayyan\",\"Qasim Dayyan\",\"Abbas Dayyan\",\"Ahmad Dayyan\"]\n",
    "\n",
    "print(names)\n",
    "\n",
    "del names[-1] # delete 4 index  element\n",
    "print(names)"
   ]
  },
  {
   "cell_type": "markdown",
   "metadata": {},
   "source": [
    "# List methods (pop)"
   ]
  },
  {
   "cell_type": "code",
   "execution_count": 36,
   "metadata": {},
   "outputs": [
    {
     "name": "stdout",
     "output_type": "stream",
     "text": [
      "['Abdul Basit', 'Abdul Dayyan', 'Qasim Dayyan', 'Abbas Dayyan', 'Ahmad Dayyan', 30, True]\n",
      "True\n"
     ]
    }
   ],
   "source": [
    "from typing import Any\n",
    "\n",
    "names : list[Any] = [\"Abdul Basit\",\"Abdul Dayyan\",\"Qasim Dayyan\",\"Abbas Dayyan\",\"Ahmad Dayyan\", 30 , True]\n",
    "\n",
    "print(names)\n",
    "\n",
    "a : str = names.pop() # pop return methods\n",
    "\n",
    "print(a)\n"
   ]
  },
  {
   "cell_type": "code",
   "execution_count": 37,
   "metadata": {},
   "outputs": [
    {
     "name": "stdout",
     "output_type": "stream",
     "text": [
      "['Abdul Basit', 'Abdul Dayyan', 'Qasim Dayyan', 'Abbas Dayyan', 'Ahmad Dayyan', 30, True]\n",
      "30\n",
      "['Abdul Basit', 'Abdul Dayyan', 'Qasim Dayyan', 'Abbas Dayyan', 'Ahmad Dayyan', True]\n"
     ]
    }
   ],
   "source": [
    "from typing import Any\n",
    "\n",
    "names : list[Any] = [\"Abdul Basit\",\"Abdul Dayyan\",\"Qasim Dayyan\",\"Abbas Dayyan\",\"Ahmad Dayyan\", 30 , True]\n",
    "\n",
    "print(names)\n",
    "\n",
    "a : str = names.pop(5) # pop return methods\n",
    "\n",
    "print(a)\n",
    "\n",
    "print(names)"
   ]
  },
  {
   "cell_type": "markdown",
   "metadata": {},
   "source": [
    "# List methods (append)"
   ]
  },
  {
   "cell_type": "code",
   "execution_count": 40,
   "metadata": {},
   "outputs": [
    {
     "name": "stdout",
     "output_type": "stream",
     "text": [
      "['a', 'b']\n",
      "['a', 'b', 'Zainab']\n"
     ]
    }
   ],
   "source": [
    "names : list[str] = ['a', 'b']\n",
    "print(names)\n",
    "\n",
    "names.append(\"Zainab\") # add element in last\n",
    "\n",
    "print(names)"
   ]
  },
  {
   "cell_type": "markdown",
   "metadata": {},
   "source": [
    "# list methods (insert)"
   ]
  },
  {
   "cell_type": "code",
   "execution_count": 41,
   "metadata": {},
   "outputs": [
    {
     "name": "stdout",
     "output_type": "stream",
     "text": [
      "['a', 'b', 'c', 'd']\n",
      "['a', 'Zainab', 'b', 'c', 'd']\n"
     ]
    }
   ],
   "source": [
    "names : list[str] = ['a', 'b', 'c', 'd']\n",
    "print(names)\n",
    "\n",
    "names.insert(1 ,\"Zainab\") # insert on perticular position\n",
    "\n",
    "print(names)"
   ]
  },
  {
   "cell_type": "markdown",
   "metadata": {},
   "source": [
    "# List methods (clear)"
   ]
  },
  {
   "cell_type": "code",
   "execution_count": 43,
   "metadata": {},
   "outputs": [
    {
     "ename": "NameError",
     "evalue": "name 'a' is not defined",
     "output_type": "error",
     "traceback": [
      "\u001b[1;31m---------------------------------------------------------------------------\u001b[0m",
      "\u001b[1;31mNameError\u001b[0m                                 Traceback (most recent call last)",
      "Cell \u001b[1;32mIn[43], line 3\u001b[0m\n\u001b[0;32m      1\u001b[0m a : \u001b[38;5;28mlist\u001b[39m[\u001b[38;5;28mstr\u001b[39m] \u001b[38;5;241m=\u001b[39m [\u001b[38;5;241m1\u001b[39m,\u001b[38;5;241m2\u001b[39m,\u001b[38;5;241m3\u001b[39m,\u001b[38;5;241m4\u001b[39m,\u001b[38;5;241m5\u001b[39m]\n\u001b[0;32m      2\u001b[0m \u001b[38;5;28;01mdel\u001b[39;00m a\n\u001b[1;32m----> 3\u001b[0m \u001b[38;5;28mprint\u001b[39m(\u001b[43ma\u001b[49m)\n",
      "\u001b[1;31mNameError\u001b[0m: name 'a' is not defined"
     ]
    }
   ],
   "source": [
    "a : list[int] = [1,2,3,4,5]\n",
    "del a # remove object from memory\n",
    "print(a)"
   ]
  },
  {
   "cell_type": "code",
   "execution_count": 44,
   "metadata": {},
   "outputs": [
    {
     "name": "stdout",
     "output_type": "stream",
     "text": [
      "[1, 2, 3, 4, 5, 6]\n",
      "[]\n"
     ]
    }
   ],
   "source": [
    "a : list[int] = [1,2,3,4,5,6]\n",
    "\n",
    "print(a)\n",
    "\n",
    "a.clear() # remove all element but object is ramen\n",
    "\n",
    "print(a)\n",
    "\n"
   ]
  },
  {
   "cell_type": "markdown",
   "metadata": {},
   "source": [
    "# List methods (copy)"
   ]
  },
  {
   "cell_type": "code",
   "execution_count": 45,
   "metadata": {},
   "outputs": [
    {
     "name": "stdout",
     "output_type": "stream",
     "text": [
      "['a', 's', 'd']\n",
      "['a', 's', 'd']\n"
     ]
    }
   ],
   "source": [
    "a : list[str] = ['a','s','d']\n",
    "b = a\n",
    "\n",
    "print(a)\n",
    "print(b)"
   ]
  },
  {
   "cell_type": "code",
   "execution_count": 46,
   "metadata": {},
   "outputs": [
    {
     "name": "stdout",
     "output_type": "stream",
     "text": [
      "['a', 's', 'd']\n",
      "['a', 's', 'd']\n",
      "['Pakistan', 's', 'd']\n",
      "['Pakistan', 's', 'd']\n"
     ]
    }
   ],
   "source": [
    "a : list[str] = ['a','s','d']\n",
    "b = a # shallow copy\n",
    "print(a)\n",
    "print(b)\n",
    "\n",
    "b[0] = \"Pakistan\" # change only b variable but both  variable updated\n",
    "print(a)\n",
    "print(b)"
   ]
  },
  {
   "cell_type": "code",
   "execution_count": 50,
   "metadata": {},
   "outputs": [
    {
     "name": "stdout",
     "output_type": "stream",
     "text": [
      "a ['a', 's', 'd']\n",
      "b ['a', 's', 'd']\n",
      "a ['a', 's', 'd']\n",
      "b ['Pakistan', 's', 'd']\n"
     ]
    }
   ],
   "source": [
    "a : list[str] = ['a','s','d']\n",
    "b = a.copy() # Deep copy\n",
    "print(\"a\",a)\n",
    "print(\"b\" , b)\n",
    "\n",
    "b[0] = \"Pakistan\" # change only b variable but both  variable updated\n",
    "print(\"a\",a)\n",
    "print(\"b\" , b)\n"
   ]
  },
  {
   "cell_type": "markdown",
   "metadata": {},
   "source": [
    "# List methods (count)"
   ]
  },
  {
   "cell_type": "code",
   "execution_count": 51,
   "metadata": {},
   "outputs": [
    {
     "name": "stdout",
     "output_type": "stream",
     "text": [
      "4\n",
      "1\n"
     ]
    }
   ],
   "source": [
    "names : list[str] = ['a','a','a','a','b','b','c']\n",
    "print(names.count('a'))\n",
    "print(names.count('c'))"
   ]
  },
  {
   "cell_type": "markdown",
   "metadata": {},
   "source": [
    "# List methods (extend)"
   ]
  },
  {
   "cell_type": "code",
   "execution_count": 56,
   "metadata": {},
   "outputs": [
    {
     "name": "stdout",
     "output_type": "stream",
     "text": [
      "['Abdul Basit', 'Abdul Dayyan', ['Ahmad', 'Abbas', 'Qasim']]\n"
     ]
    }
   ],
   "source": [
    "names : list[str] = ['Abdul Basit','Abdul Dayyan']\n",
    "\n",
    "new_faculty_members :  list[str] = ['Ahmad','Abbas','Qasim']\n",
    "\n",
    "names.append(new_faculty_members)\n",
    "print(names)\n"
   ]
  },
  {
   "cell_type": "code",
   "execution_count": 57,
   "metadata": {},
   "outputs": [
    {
     "name": "stdout",
     "output_type": "stream",
     "text": [
      "['Abdul Basit', 'Abdul Dayyan', 'Ahmad', 'Abbas', 'Qasim']\n"
     ]
    }
   ],
   "source": [
    "names : list[str] = ['Abdul Basit','Abdul Dayyan']\n",
    "\n",
    "new_faculty_members :  list[str] = ['Ahmad','Abbas','Qasim'] #add  multiple variable \n",
    "\n",
    "names.extend(new_faculty_members)\n",
    "print(names)"
   ]
  },
  {
   "cell_type": "code",
   "execution_count": 64,
   "metadata": {},
   "outputs": [
    {
     "name": "stdout",
     "output_type": "stream",
     "text": [
      "['Abdul Basit', 'Abbas', 'Qasim']\n"
     ]
    }
   ],
   "source": [
    "names : list[str] = ['Abdul Basit','Abdul Dayyan','Ahmad','Abbas','Qasim']\n",
    "\n",
    "del names[1:3] # multiple items delete bi karwa sakty ha slicing ki madad sa\n",
    "print(names)"
   ]
  },
  {
   "cell_type": "markdown",
   "metadata": {},
   "source": [
    "# List methods (index) "
   ]
  },
  {
   "cell_type": "code",
   "execution_count": 60,
   "metadata": {},
   "outputs": [
    {
     "data": {
      "text/plain": [
       "2"
      ]
     },
     "execution_count": 60,
     "metadata": {},
     "output_type": "execute_result"
    }
   ],
   "source": [
    "names : list[str] = ['Abdul Basit', 'Abdul Dayyan', 'Ahmad', 'Abbas', 'Qasim']\n",
    "\n",
    "names.index(\"Ahmad\") \n"
   ]
  },
  {
   "cell_type": "markdown",
   "metadata": {},
   "source": [
    "# List methods (remove)"
   ]
  },
  {
   "cell_type": "code",
   "execution_count": 58,
   "metadata": {},
   "outputs": [
    {
     "name": "stdout",
     "output_type": "stream",
     "text": [
      "['Abdul Basit', 'Abdul Dayyan', 'Ahmad', 'Abbas']\n"
     ]
    }
   ],
   "source": [
    "names : list[str] = ['Abdul Basit', 'Abdul Dayyan', 'Ahmad', 'Abbas', 'Qasim']\n",
    "\n",
    "names.remove(\"Qasim\") # remove with text value \n",
    "print(names)"
   ]
  },
  {
   "cell_type": "markdown",
   "metadata": {},
   "source": [
    "# List methods (reverse)"
   ]
  },
  {
   "cell_type": "code",
   "execution_count": 61,
   "metadata": {},
   "outputs": [
    {
     "name": "stdout",
     "output_type": "stream",
     "text": [
      "['Abdul Basit', 'Abdul Dayyan', 'Ahmad', 'Abbas', 'Qasim']\n",
      "['Qasim', 'Abbas', 'Ahmad', 'Abdul Dayyan', 'Abdul Basit']\n"
     ]
    }
   ],
   "source": [
    "names : list[str] = ['Abdul Basit', 'Abdul Dayyan', 'Ahmad', 'Abbas', 'Qasim']\n",
    "print(names)\n",
    "names.reverse() # in memory = change real data \n",
    "print(names)"
   ]
  },
  {
   "cell_type": "markdown",
   "metadata": {},
   "source": [
    "# List methods (sort)"
   ]
  },
  {
   "cell_type": "code",
   "execution_count": 62,
   "metadata": {},
   "outputs": [
    {
     "name": "stdout",
     "output_type": "stream",
     "text": [
      "['A', 'B', 'D', 'C', 'G', 'F', 'I', 'H']\n",
      "['A', 'B', 'C', 'D', 'F', 'G', 'H', 'I']\n"
     ]
    }
   ],
   "source": [
    "names : list[str] = list(\"ABDCGFIH\")\n",
    "print(names)\n",
    "names.sort() # in memory = change real data SORT\n",
    "print(names)"
   ]
  },
  {
   "cell_type": "code",
   "execution_count": 32,
   "metadata": {},
   "outputs": [
    {
     "name": "stdout",
     "output_type": "stream",
     "text": [
      "Pakistan\n"
     ]
    },
    {
     "data": {
      "text/plain": [
       "None"
      ]
     },
     "metadata": {},
     "output_type": "display_data"
    }
   ],
   "source": [
    "a : str = print(\"Pakistan\")  # none return function \n",
    "display(a)"
   ]
  },
  {
   "cell_type": "code",
   "execution_count": 33,
   "metadata": {},
   "outputs": [
    {
     "data": {
      "text/plain": [
       "1636707530240"
      ]
     },
     "metadata": {},
     "output_type": "display_data"
    }
   ],
   "source": [
    "a : str = id(names)  #  return function \n",
    "display(a)"
   ]
  }
 ],
 "metadata": {
  "kernelspec": {
   "display_name": "python12",
   "language": "python",
   "name": "python3"
  },
  "language_info": {
   "codemirror_mode": {
    "name": "ipython",
    "version": 3
   },
   "file_extension": ".py",
   "mimetype": "text/x-python",
   "name": "python",
   "nbconvert_exporter": "python",
   "pygments_lexer": "ipython3",
   "version": "3.12.0"
  }
 },
 "nbformat": 4,
 "nbformat_minor": 2
}
